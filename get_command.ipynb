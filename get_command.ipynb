{
 "cells": [
  {
   "cell_type": "code",
   "execution_count": 1,
   "metadata": {},
   "outputs": [
    {
     "data": {
      "application/vnd.jupyter.widget-view+json": {
       "model_id": "5f037bd512104ad88223567223d0bc56",
       "version_major": 2,
       "version_minor": 0
      },
      "text/plain": [
       "interactive(children=(IntSlider(value=0, description='gpu', max=3), Dropdown(description='train_type', options…"
      ]
     },
     "metadata": {},
     "output_type": "display_data"
    },
    {
     "data": {
      "text/plain": [
       "<function __main__.f(gpu, train_type, index, kfold, model, ce200, ce200_ac, restore_epoch, early_stop)>"
      ]
     },
     "execution_count": 1,
     "metadata": {},
     "output_type": "execute_result"
    }
   ],
   "source": [
    "from __future__ import print_function\n",
    "from ipywidgets import interact, interactive, fixed, interact_manual\n",
    "import ipywidgets as widgets\n",
    "def f(gpu,train_type,index,kfold,model,ce200,ce200_ac,restore_epoch,early_stop):\n",
    "    ce200_ = 'ce200' if ce200 else 'NA'\n",
    "    ce200_ac_ = 'ce200_ac' if ce200_ac else 'NA'\n",
    "    dataset3 = 'NA'\n",
    "    cmd = 'CUDA_VISIBLE_DEVICES={}, python {}.py --index {} --kfold {} --model {} --dataset1 {} --dataset2 {} --dataset3 {} --restore_epoch {} --early_stop {}'\\\n",
    "    .format(gpu,train_type,index,kfold,model,ce200_,ce200_ac_,dataset3,restore_epoch,early_stop)\n",
    "    #print('='*100,'\\n',cmd,'\\n','='*100)\n",
    "    return cmd\n",
    "interact(f,\n",
    "         gpu=widgets.IntSlider(min=0, max=3, step=1),\n",
    "         train_type = ['train','train_pre'],\n",
    "         index=widgets.IntSlider(min=0, max=20, step=1),\n",
    "         kfold=widgets.IntSlider(min=0, max=4, step=1),\n",
    "         model =['btc','cnn','crnn'],\n",
    "         ce200 = True,\n",
    "         ce200_ac = False,\n",
    "         #dataset3 = ['NA'],\n",
    "         restore_epoch = widgets.IntSlider(min=0, max=20, step=1),\n",
    "         early_stop = widgets.IntSlider(min=0, max=20, step=1)\n",
    "        )"
   ]
  },
  {
   "cell_type": "code",
   "execution_count": 2,
   "metadata": {},
   "outputs": [],
   "source": [
    "# audio_dir  = os.listdir('test/mp3/')\n",
    "# model_file = os.listdir('data/assets/model')\n",
    "# normal_file = os.listdir('data/result')\n",
    "\n",
    "# def f1 (gpu,audio_dir,save_dir,model_file):\n",
    "#             index = model_file[4]\n",
    "#             cmd = 'CUDA_VISIBLE_DEVICES={}, python test.py --index {} --audio_dir {} --save_dir {} --model_file {}' \\\n",
    "#             .format(gpu,index,audio_dir,save_dir,model_file)\n",
    "#             return cmd\n",
    "        \n",
    "# def f2 (gpu,audio_dir,save_dir,model_file,normal_file):\n",
    "#             index = model_file[4]\n",
    "#             cmd = 'CUDA_VISIBLE_DEVICES={}, python test.py --index {} --audio_dir {} --save_dir {} --model_file {} --normal_file {}' \\\n",
    "#             .format(gpu,index,audio_dir,save_dir,model_file,normal_file)\n",
    "#             return cmd\n",
    "\n",
    "# def f (pre):\n",
    "#     if pre: \n",
    "#         interact(f1,\n",
    "#                  gpu=widgets.IntSlider(min=0, max=4, step=1),\n",
    "#                  audio_dir = audio_dir,\n",
    "#                  save_dir = 'Hi there!',\n",
    "#                  model_file = model_file)\n",
    "#     else:\n",
    "#         interact(f2,\n",
    "#                  gpu=widgets.IntSlider(min=0, max=4, step=1),\n",
    "#                  audio_dir = audio_dir,\n",
    "#                  save_dir = 'Hi there!',\n",
    "#                  model_file = model_file,\n",
    "#                  normal_file = normal_file)\n",
    "        \n",
    "# interact(f,pre=True)"
   ]
  },
  {
   "cell_type": "code",
   "execution_count": 4,
   "metadata": {},
   "outputs": [
    {
     "data": {
      "application/vnd.jupyter.widget-view+json": {
       "model_id": "04623564331b4cc1b47055acf83dfc87",
       "version_major": 2,
       "version_minor": 0
      },
      "text/plain": [
       "interactive(children=(Output(),), _dom_classes=('widget-interact',))"
      ]
     },
     "metadata": {},
     "output_type": "display_data"
    },
    {
     "data": {
      "text/plain": [
       "<function __main__.f()>"
      ]
     },
     "execution_count": 4,
     "metadata": {},
     "output_type": "execute_result"
    }
   ],
   "source": [
    "import os\n",
    "audio_dir  = sorted(os.listdir('test/mp3/'))\n",
    "model_file = sorted(os.listdir('data/assets/model'))\n",
    "normal_file = sorted(os.listdir('data/result'))\n",
    "\n",
    "def f2 (gpu,audio_dir,model,save_dir,model_file,normal_file):\n",
    "            index = model_file[4]\n",
    "            cmd = 'CUDA_VISIBLE_DEVICES={}, python test.py --index {} --model {} --audio_dir {} --save_dir {} --model_file {} --normal_file {}' \\\n",
    "            .format(gpu,index,model,audio_dir,save_dir,model_file,normal_file)\n",
    "            return cmd\n",
    "def f ():\n",
    "    interact(f2,\n",
    "             gpu=widgets.IntSlider(min=0, max=4, step=1),\n",
    "             audio_dir = audio_dir,\n",
    "             model =['btc','cnn','crnn'],\n",
    "             save_dir = 'idx_',\n",
    "             model_file = model_file,\n",
    "             normal_file = normal_file)\n",
    "\n",
    "interact(f)"
   ]
  },
  {
   "cell_type": "code",
   "execution_count": null,
   "metadata": {},
   "outputs": [],
   "source": []
  }
 ],
 "metadata": {
  "kernelspec": {
   "display_name": "Python 3",
   "language": "python",
   "name": "python3"
  },
  "language_info": {
   "codemirror_mode": {
    "name": "ipython",
    "version": 3
   },
   "file_extension": ".py",
   "mimetype": "text/x-python",
   "name": "python",
   "nbconvert_exporter": "python",
   "pygments_lexer": "ipython3",
   "version": "3.7.8"
  }
 },
 "nbformat": 4,
 "nbformat_minor": 4
}
